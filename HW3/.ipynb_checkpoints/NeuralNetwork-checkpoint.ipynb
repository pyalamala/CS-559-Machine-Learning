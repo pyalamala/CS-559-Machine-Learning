{
 "cells": [
  {
   "cell_type": "code",
   "execution_count": 51,
   "id": "25a7e2f6",
   "metadata": {},
   "outputs": [],
   "source": [
    "import numpy as np\n",
    "from sklearn.datasets import load_iris\n",
    "from sklearn.model_selection import train_test_split\n",
    "from sklearn.preprocessing import OneHotEncoder\n",
    "import pandas as pd"
   ]
  },
  {
   "cell_type": "code",
   "execution_count": 99,
   "id": "f0ca12ff",
   "metadata": {},
   "outputs": [],
   "source": [
    "iris_data = pd.read_csv('Iris.csv')\n",
    "X = iris_data[['SepalLengthCm', 'SepalWidthCm', 'PetalLengthCm', 'PetalWidthCm']]\n",
    "X = np.array(X)\n",
    "y = iris_data.Species\n",
    "encoder = OneHotEncoder(sparse=False)\n",
    "y = encoder.fit_transform(np.array(y).reshape(-1, 1))\n",
    "x_train, x_test, y_train, y_test = train_test_split(X, y, test_size=.2)\n",
    "\n",
    "def Sigmoid(x):\n",
    "    return 1 / (1 + np.exp(-x))\n",
    "\n",
    "def Sigmoid_derivative(x):\n",
    "    return np.multiply(x, 1-x)\n"
   ]
  },
  {
   "cell_type": "code",
   "execution_count": 100,
   "id": "8fb413c4",
   "metadata": {},
   "outputs": [],
   "source": [
    "def NeuralNetwork(x_train, y_train, epochs=1000, nodes=[], learning_rate=.1):\n",
    "    hidden_layers = len(nodes) - 1\n",
    "    weights = []\n",
    "    for i in range(1, len(nodes)):\n",
    "        weight = [[np.random.uniform(-1,1) for k in range(nodes[i-1] + 1)] for j in range(nodes[i])]\n",
    "        weights.append(np.matrix(weight))\n",
    "    for epoch in range(0, epochs):\n",
    "        weight = Train(x_train, y_train, learning_rate, weights)\n",
    "    return weights"
   ]
  },
  {
   "cell_type": "code",
   "execution_count": 101,
   "id": "c8765404",
   "metadata": {},
   "outputs": [],
   "source": [
    "def Forward_propogation(x, weights, layers):\n",
    "    activations = [x]\n",
    "    layer = x\n",
    "    for j in range(0, layers):\n",
    "        activation =  Sigmoid(np.dot(layer, weights[j].T))\n",
    "        activations.append(activation)\n",
    "        layer = np.append(1, activation)\n",
    "    return activations"
   ]
  },
  {
   "cell_type": "code",
   "execution_count": 107,
   "id": "2882f716",
   "metadata": {},
   "outputs": [],
   "source": [
    "def backward_propogation(y, activations, weights, layers, learning_rate):\n",
    "    output = activations[-1]\n",
    "    error = y - output\n",
    "    \n",
    "    for i in range(layers, 0, -1):\n",
    "        activation = activations[i]\n",
    "        if i > 1:\n",
    "            prev = np.append(1, activations[i -1])\n",
    "        else:\n",
    "            prev = activations[0]\n",
    "        \n",
    "        delta = np.multiply(error, Sigmoid_derivative(activation))\n",
    "        weights[i-1] += learning_rate * np.multiply(delta.T, prev)\n",
    "        weight = np.delete(weights[i-1], [0], axis=1)\n",
    "        error = np.dot(delta, weight)\n",
    "    return weights\n",
    "            "
   ]
  },
  {
   "cell_type": "code",
   "execution_count": 108,
   "id": "eb25a5c8",
   "metadata": {},
   "outputs": [],
   "source": [
    "def Train(x_train, y_train, learning_rate, weights):\n",
    "    layers = len(weights)\n",
    "    for i in range(0, len(x_train)):\n",
    "        x = x_train[i]\n",
    "        y = y_train[i]\n",
    "        x = np.matrix(np.append(1,x))\n",
    "        \n",
    "        activations = Forward_propogation(x, weights, layers)\n",
    "        weights = backward_propogation(y, activations, weights, layers, learning_rate)\n",
    "    return weights"
   ]
  },
  {
   "cell_type": "code",
   "execution_count": 109,
   "id": "0373b273",
   "metadata": {},
   "outputs": [],
   "source": [
    "def predict(x_test, weights):\n",
    "    layers = len(weights)\n",
    "    x_test = np.append(1, x_test)\n",
    "    \n",
    "    activations = Forward_propogation(x_test, weights, layers)\n",
    "    output = activations[-1].flatten()\n",
    "    \n",
    "    mx = output[0]\n",
    "    max_index = 0\n",
    "    for i in range(1, len(output)):\n",
    "        if(output[i] > mx):\n",
    "            mx = output[i]\n",
    "            max_index = i\n",
    "    pred_y = [0 for i in range(len(output))]\n",
    "    pred_y[max_index] = 1\n",
    "    return pred_y\n",
    "\n",
    "    "
   ]
  },
  {
   "cell_type": "code",
   "execution_count": 110,
   "id": "ec598678",
   "metadata": {},
   "outputs": [],
   "source": [
    "def accuracy(x_test, y_test, weights):\n",
    "    count = 0\n",
    "    for i in range(0, len(x_test)):\n",
    "        pred_y = predict(x_test, weights)\n",
    "        if(pred_y == y_test):\n",
    "            count += 1\n",
    "    accuracy = count / len(x_test)\n",
    "    return accuracy"
   ]
  },
  {
   "cell_type": "code",
   "execution_count": null,
   "id": "0e963865",
   "metadata": {},
   "outputs": [],
   "source": [
    "features = len(X[0])\n",
    "classes = len(y[0])\n",
    "layers  = [features, 5, 10, classes]\n",
    "weights = NeuralNetwork(x_train, y_train, nodes=layers)\n",
    "accuracy = Accuracy(x_test, y_test, weights)\n",
    "print(f\"Accuracy: {accuracy}\")"
   ]
  },
  {
   "cell_type": "code",
   "execution_count": null,
   "id": "2d7038de",
   "metadata": {},
   "outputs": [],
   "source": []
  },
  {
   "cell_type": "code",
   "execution_count": null,
   "id": "508c6848",
   "metadata": {},
   "outputs": [],
   "source": []
  }
 ],
 "metadata": {
  "kernelspec": {
   "display_name": "Python 3 (ipykernel)",
   "language": "python",
   "name": "python3"
  },
  "language_info": {
   "codemirror_mode": {
    "name": "ipython",
    "version": 3
   },
   "file_extension": ".py",
   "mimetype": "text/x-python",
   "name": "python",
   "nbconvert_exporter": "python",
   "pygments_lexer": "ipython3",
   "version": "3.9.7"
  }
 },
 "nbformat": 4,
 "nbformat_minor": 5
}
