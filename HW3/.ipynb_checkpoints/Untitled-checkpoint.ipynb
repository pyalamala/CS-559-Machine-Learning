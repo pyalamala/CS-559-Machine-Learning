{
 "cells": [
  {
   "cell_type": "code",
   "execution_count": 8,
   "id": "8ada9a10",
   "metadata": {},
   "outputs": [],
   "source": [
    "import numpy as np\n",
    "import pandas as pd\n",
    "import matplotlib.pyplot as plt\n",
    "from sklearn.preprocessing import LabelEncoder\n",
    "from sklearn.model_selection import train_test_split\n",
    "from sklearn.preprocessing import StandardScaler"
   ]
  },
  {
   "cell_type": "code",
   "execution_count": 10,
   "id": "ae0a1fe8",
   "metadata": {},
   "outputs": [],
   "source": [
    "iris = pd.read_csv('Iris.csv')\n",
    "X = iris.iloc[:, :-1].values\n",
    "y = iris.iloc[:, -1].values\n",
    "y = LabelEncoder().fit_transform(y)\n",
    "y = pd.get_dummies(y).values\n",
    "X_train, X_test, y_train, y_test = train_test_split(X, y, test_size = 0.2)\n",
    "sc = StandardScaler()\n",
    "X_train = sc.fit_transform(X_train)\n",
    "X_test = sc.transform(X_test)"
   ]
  },
  {
   "cell_type": "code",
   "execution_count": 11,
   "id": "cd55abaa",
   "metadata": {},
   "outputs": [],
   "source": [
    "epochs = 1000\n",
    "leanring_rate = .1"
   ]
  },
  {
   "cell_type": "code",
   "execution_count": 12,
   "id": "7fbad0a5",
   "metadata": {},
   "outputs": [],
   "source": [
    "weights_input_hidden = np.random.normal(0, scale=0.1, size=(4,5)) \n",
    "weights_hidden_output = np.random.normal(0, scale=0.1, size=(5,3))\n",
    "bias_input_hidden = np.zeros((1,5)) \n",
    "bias_hidden_output = np.zeros((1,3))"
   ]
  },
  {
   "cell_type": "code",
   "execution_count": 13,
   "id": "6f2c48e7",
   "metadata": {},
   "outputs": [],
   "source": [
    "def sigmoid(x):\n",
    "    return 1/(1+np.exp(-x))\n"
   ]
  },
  {
   "cell_type": "code",
   "execution_count": 14,
   "id": "8c775aaf",
   "metadata": {},
   "outputs": [],
   "source": [
    "def sigmoid_der(x):\n",
    "    return sigmoid(x)*(1-sigmoid(x))"
   ]
  },
  {
   "cell_type": "code",
   "execution_count": 15,
   "id": "75cdcdf8",
   "metadata": {},
   "outputs": [],
   "source": [
    "def forward_pass(x, weights_input_hidden, weights_hidden_output, bias_input_hidden, bias_hidden_output):\n",
    "    input_layer = x.T\n",
    "    hidden_layer_input = np.dot(input_layer, weights_input_hidden) + bias_input_hidden\n",
    "    hidden_layer_activations = sigmoid(hidden_layer_input)\n",
    "    output_layer_input = np.dot(hidden_layer_activations, weights_hidden_output) + bias_hidden_output\n",
    "    output = sigmoid(output_layer_input)\n",
    "    \n",
    "    return hidden_layer_input, hidden_layer_activations, output"
   ]
  },
  {
   "cell_type": "code",
   "execution_count": 16,
   "id": "0d9325d7",
   "metadata": {},
   "outputs": [],
   "source": [
    "def backward_pass(x, y, weights_hidden_output, hidden_layer_activations, output, bias_hidden_output, weights_input_hidden, hidden_layer_input):\n",
    "    error = y.T - output\n",
    "    slope_output_layer = sigmoid_der(output)\n",
    "    slope_hidden_layer = sigmoid_der(hidden_layer_activations)\n",
    "    d_output = error * slope_output_layer\n",
    "    error_at_hidden_layer = np.dot(d_output, weights_hidden_output.T)\n",
    "    d_hidden_layer = error_at_hidden_layer * slope_hidden_layer\n",
    "    weights_hidden_output += np.dot(hidden_layer_activations.T, d_output) * lr\n",
    "    bias_hidden_output += np.sum(d_output, axis=0, keepdims=True) * lr\n",
    "    weights_input_hidden += np.dot(x.T, d_hidden_layer) * lr\n",
    "    bias_input_hidden += np.sum(d_hidden_layer, axis=0, keepdims=True) * lr"
   ]
  },
  {
   "cell_type": "code",
   "execution_count": null,
   "id": "8ec02e7e",
   "metadata": {},
   "outputs": [],
   "source": []
  }
 ],
 "metadata": {
  "kernelspec": {
   "display_name": "Python 3 (ipykernel)",
   "language": "python",
   "name": "python3"
  },
  "language_info": {
   "codemirror_mode": {
    "name": "ipython",
    "version": 3
   },
   "file_extension": ".py",
   "mimetype": "text/x-python",
   "name": "python",
   "nbconvert_exporter": "python",
   "pygments_lexer": "ipython3",
   "version": "3.9.7"
  }
 },
 "nbformat": 4,
 "nbformat_minor": 5
}
